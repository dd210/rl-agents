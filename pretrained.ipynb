{
 "cells": [
  {
   "cell_type": "code",
   "execution_count": 1,
   "metadata": {
    "collapsed": false,
    "deletable": true,
    "editable": true
   },
   "outputs": [],
   "source": [
    "%load_ext autoreload\n",
    "%autoreload 2\n",
    "#%pylab inline"
   ]
  },
  {
   "cell_type": "code",
   "execution_count": 2,
   "metadata": {
    "collapsed": true,
    "deletable": true,
    "editable": true
   },
   "outputs": [],
   "source": [
    "import os\n",
    "os.environ['KERAS_BACKEND'] = 'theano'\n",
    "os.environ['THEANO_FLAGS'] = 'device=cpu'"
   ]
  },
  {
   "cell_type": "code",
   "execution_count": 3,
   "metadata": {
    "collapsed": false,
    "deletable": true,
    "editable": true
   },
   "outputs": [
    {
     "name": "stdout",
     "output_type": "stream",
     "text": [
      "Couldn't import dot_parser, loading of dot files will not be possible.\n"
     ]
    },
    {
     "name": "stderr",
     "output_type": "stream",
     "text": [
      "Using Theano backend.\n"
     ]
    }
   ],
   "source": [
    "import tensorflow as tf\n",
    "import numpy as np\n",
    "import itertools\n",
    "import keras\n",
    "import gym\n",
    "\n",
    "from tqdm import tqdm\n",
    "from wrappers.envs import AtariStackFrames\n",
    "from utils.ae import AEConvKeras"
   ]
  },
  {
   "cell_type": "code",
   "execution_count": 4,
   "metadata": {
    "collapsed": false,
    "deletable": true,
    "editable": true,
    "scrolled": true
   },
   "outputs": [],
   "source": [
    "model = keras.models.load_model('rllab_exp/model_epoch29.h5')\n",
    "ar = np.random.rand(1,12,105,80)"
   ]
  },
  {
   "cell_type": "code",
   "execution_count": 5,
   "metadata": {
    "collapsed": false,
    "scrolled": true
   },
   "outputs": [
    {
     "name": "stdout",
     "output_type": "stream",
     "text": [
      "[[  4.61665541e-01  -9.40143824e-01   3.95007968e+00  -4.76870984e-01\n",
      "   -9.83308375e-01  -9.44032669e-01   2.96775985e+00   6.20017576e+00\n",
      "    1.45723033e+00  -7.76356578e-01   4.38904715e+00  -9.49967146e-01\n",
      "    2.84722495e+00   5.95845556e+00   1.93258190e+00   5.98257720e-01\n",
      "   -7.31766939e-01   2.94834781e+00   4.20856810e+00  -9.70527530e-01\n",
      "   -6.95844710e-01   3.72295833e+00   2.25248289e+00   2.94316459e+00\n",
      "    6.21056700e+00  -9.03794885e-01  -8.98619294e-01  -8.95368516e-01\n",
      "    7.73951387e+00   7.97684908e-01   8.73640776e-02  -9.94423449e-01\n",
      "   -9.56115723e-01   8.12862873e+00   1.58732986e+00   6.86167049e+00\n",
      "   -7.84784317e-01  -9.89890575e-01  -2.76907027e-01  -9.89010811e-01\n",
      "   -1.92260012e-01  -9.99927223e-01   1.74333051e-01  -9.78452921e-01\n",
      "    4.31194544e+00   1.12885296e+00  -9.83571291e-01  -9.92488325e-01\n",
      "    4.77532768e+00  -8.70029926e-01  -8.49846244e-01   6.63873494e-01\n",
      "   -4.91146028e-01  -9.99254167e-01   1.70630717e+00  -1.28747206e-02\n",
      "   -9.99996126e-01  -8.55175138e-01   3.09212506e-01  -9.13028777e-01\n",
      "    3.12884867e-01  -9.98942554e-01  -9.99991059e-01   7.23010349e+00\n",
      "   -7.99139380e-01   2.66185117e+00   9.41986918e-01  -8.11612248e-01\n",
      "    1.85187772e-01   9.13163471e+00  -4.92127061e-01  -9.21983242e-01\n",
      "    2.04827619e+00   4.27793169e+00  -8.05112302e-01  -7.19784617e-01\n",
      "   -9.98692453e-01  -6.71631813e-01  -9.83164430e-01   1.17029631e+00\n",
      "    4.21771955e+00  -9.90072966e-01  -9.13794577e-01   2.08096695e+00\n",
      "    1.42429519e+00  -9.99770045e-01  -9.68572617e-01  -9.96651232e-01\n",
      "   -9.96313453e-01   7.37683916e+00   4.00913191e+00   2.89316797e+00\n",
      "   -9.71077383e-01   3.21088338e+00   4.43559265e+00   2.90943170e+00\n",
      "    1.59210944e+00  -6.71099424e-01  -9.55006778e-01   2.21478200e+00\n",
      "   -9.18812871e-01  -2.29266584e-01  -8.71116757e-01   3.03284144e+00\n",
      "   -9.83675361e-01   8.02028656e+00  -9.76292968e-01   8.18647003e+00\n",
      "   -9.99942124e-01  -9.97244477e-01  -5.13695359e-01   4.40040398e+00\n",
      "    1.27152145e+00   1.34415948e+00  -9.98324275e-01   3.02017570e+00\n",
      "    4.27029848e-01  -9.99818981e-01  -2.71084718e-02  -3.76855791e-01\n",
      "    2.98872638e+00   2.73788363e-01   2.47868347e+00  -9.38738286e-01\n",
      "    3.15546799e+00   1.38444579e+00  -9.95176673e-01   3.72711539e+00\n",
      "   -6.85935676e-01  -7.93621302e-01  -9.90361810e-01  -9.89069164e-01\n",
      "   -9.96614516e-01  -6.69272006e-01   5.50235987e-01  -8.98647726e-01\n",
      "    4.56247807e+00   1.96548486e+00  -9.90347564e-01  -6.19209945e-01\n",
      "   -8.04145813e-01  -9.60336447e-01  -8.79554868e-01  -9.02576566e-01\n",
      "   -4.16646898e-01   8.22031212e+00   1.94878638e+00   2.61429191e+00\n",
      "    2.93482327e+00  -9.04784381e-01   1.07392110e-01  -9.99560893e-01\n",
      "   -1.25545144e-01  -1.16034247e-01   4.19152355e+00   8.33579636e+00\n",
      "    4.35464668e+00   2.41008312e-01   3.37373018e+00  -8.05306509e-02\n",
      "   -9.74351883e-01   2.28916836e+00  -9.42701280e-01  -7.48724997e-01\n",
      "    3.96871614e+00   5.86366415e+00   8.26388240e-01  -9.99787033e-01\n",
      "    2.14729214e+00  -9.66284931e-01   2.25570560e+00  -8.55754495e-01\n",
      "   -5.15013039e-01   3.15366077e+00   9.93164539e-01   1.26847811e+01\n",
      "   -9.47933733e-01   2.54751229e+00  -6.85043931e-01   7.05153644e-01\n",
      "   -9.68992591e-01  -3.33486736e-01  -9.83172119e-01  -6.95568740e-01\n",
      "    1.95085868e-01   2.27796888e+00  -9.68851149e-01  -8.13570917e-01\n",
      "   -8.38323593e-01  -4.28128511e-01   7.26463032e+00  -9.95694816e-01\n",
      "   -2.01812327e-01  -8.02831113e-01   5.09012222e+00  -6.49779856e-01\n",
      "   -4.24300097e-02  -9.82258976e-01   3.57314920e+00  -8.32411289e-01\n",
      "    1.98718393e+00   3.63392901e+00  -8.53861213e-01  -8.60347033e-01\n",
      "   -8.23526800e-01  -9.77001429e-01   3.81023788e+00  -2.52945304e-01\n",
      "    1.05159628e+00   1.59328327e+01  -9.89311934e-01  -8.21736753e-01\n",
      "    4.84172773e+00   2.24089846e-01  -8.45366955e-01  -8.52888584e-01\n",
      "   -8.86783183e-01  -9.77039695e-01  -9.21002090e-01   5.10796022e+00\n",
      "    7.29031801e+00   5.84889603e+00   3.41394544e+00   2.99230814e+00\n",
      "   -9.44592178e-01  -9.99969304e-01   6.10848761e+00   5.85175419e+00\n",
      "    3.82851481e+00  -9.93494093e-01   1.44075098e+01   1.96940708e+00\n",
      "    5.00283957e+00   1.09322560e+00  -9.91485655e-01   3.48294377e-01\n",
      "   -9.98757541e-01   3.64113355e+00  -9.77648139e-01   2.07312179e+00\n",
      "   -9.98132825e-01   1.03041577e+00   8.19779491e+00   5.70176458e+00\n",
      "    1.56770873e+00  -9.99946117e-01  -5.50898500e-02   1.32835698e+00\n",
      "    1.86495274e-01   1.23733854e+00  -4.89210129e-01  -9.94718909e-01\n",
      "    1.39421105e+00  -9.97976959e-01   6.32422495e+00   5.74804306e+00]]\n"
     ]
    }
   ],
   "source": [
    "m = keras.models.Model(input=model.layers[0].input, output=model.layers[-3].output)\n",
    "print m.predict(ar)"
   ]
  },
  {
   "cell_type": "code",
   "execution_count": null,
   "metadata": {
    "collapsed": false
   },
   "outputs": [],
   "source": []
  },
  {
   "cell_type": "code",
   "execution_count": null,
   "metadata": {
    "collapsed": true
   },
   "outputs": [],
   "source": []
  },
  {
   "cell_type": "code",
   "execution_count": null,
   "metadata": {
    "collapsed": false
   },
   "outputs": [],
   "source": [
    "m.predict(ar).shape"
   ]
  },
  {
   "cell_type": "code",
   "execution_count": null,
   "metadata": {
    "collapsed": true
   },
   "outputs": [],
   "source": []
  },
  {
   "cell_type": "code",
   "execution_count": null,
   "metadata": {
    "collapsed": true
   },
   "outputs": [],
   "source": []
  },
  {
   "cell_type": "code",
   "execution_count": null,
   "metadata": {
    "collapsed": false,
    "deletable": true,
    "editable": true
   },
   "outputs": [],
   "source": [
    "env = AtariStackFrames(gym.make('MsPacman-v0'), rgb=True)"
   ]
  },
  {
   "cell_type": "code",
   "execution_count": null,
   "metadata": {
    "collapsed": true,
    "deletable": true,
    "editable": true
   },
   "outputs": [],
   "source": [
    "def collect_data(env=None, n_episodes=10, max_steps=5000):\n",
    "    states = []\n",
    "    for i in tqdm(range(n_episodes)):\n",
    "        state = env.reset()\n",
    "        states.append(state)\n",
    "        terminal = False\n",
    "        step = 0\n",
    "        while not terminal and step < max_steps:\n",
    "            action = env.action_space.sample()\n",
    "            state, reward, terminal, _ = env.step(action)\n",
    "            states.append(state)\n",
    "            step += 1\n",
    "    return np.array(states)\n",
    "\n",
    "def run_episode(env=None, agent=None, max_steps=5000):\n",
    "    state = env.reset()\n",
    "    total_reward = 0.\n",
    "    terminal = False\n",
    "    step = 0\n",
    "    while not terminal and step < max_steps:\n",
    "        action = agent.predict(np.expand_dims(state, 0)).argmax(axis=1)\n",
    "        #action = env.action_space.sample()\n",
    "        state, reward, terminal, _ = env.step(action)\n",
    "        total_reward += reward\n",
    "        step += 1\n",
    "    return total_reward"
   ]
  },
  {
   "cell_type": "code",
   "execution_count": null,
   "metadata": {
    "collapsed": false,
    "deletable": true,
    "editable": true
   },
   "outputs": [],
   "source": [
    "res = []\n",
    "for i in xrange(20):\n",
    "    r = run_episode(env, model)\n",
    "    print r\n",
    "    res.append(r)\n",
    "print 'mean: {:.3f}'.format(np.array(res).mean())"
   ]
  },
  {
   "cell_type": "code",
   "execution_count": null,
   "metadata": {
    "collapsed": false,
    "deletable": true,
    "editable": true
   },
   "outputs": [],
   "source": []
  },
  {
   "cell_type": "code",
   "execution_count": null,
   "metadata": {
    "collapsed": true,
    "deletable": true,
    "editable": true
   },
   "outputs": [],
   "source": []
  },
  {
   "cell_type": "markdown",
   "metadata": {
    "collapsed": true,
    "deletable": true,
    "editable": true
   },
   "source": [
    "## temp"
   ]
  },
  {
   "cell_type": "code",
   "execution_count": null,
   "metadata": {
    "collapsed": true
   },
   "outputs": [],
   "source": [
    "import os\n",
    "os.environ['KERAS_BACKEND'] = 'tensorflow'"
   ]
  },
  {
   "cell_type": "code",
   "execution_count": null,
   "metadata": {
    "collapsed": false
   },
   "outputs": [],
   "source": [
    "import keras\n",
    "import tensorflow as tf\n",
    "from keras.layers import Input, Dense\n",
    "from keras.models import Model"
   ]
  },
  {
   "cell_type": "code",
   "execution_count": null,
   "metadata": {
    "collapsed": true
   },
   "outputs": [],
   "source": [
    "inp = Input(shape=(1,))\n",
    "out = Dense(32, activation='relu')(inp)\n",
    "out = Dense(1)(out)"
   ]
  },
  {
   "cell_type": "code",
   "execution_count": null,
   "metadata": {
    "collapsed": false
   },
   "outputs": [],
   "source": [
    "with tf.device('/job:ps/task:0'):\n",
    "    print m.weights[0].device"
   ]
  },
  {
   "cell_type": "code",
   "execution_count": null,
   "metadata": {
    "collapsed": false
   },
   "outputs": [],
   "source": [
    "print model.input\n",
    "print model.output"
   ]
  },
  {
   "cell_type": "code",
   "execution_count": null,
   "metadata": {
    "collapsed": false
   },
   "outputs": [],
   "source": [
    "model = Model(input=inp, output=out)"
   ]
  },
  {
   "cell_type": "code",
   "execution_count": null,
   "metadata": {
    "collapsed": false
   },
   "outputs": [],
   "source": [
    "model.save('temp.h5')"
   ]
  },
  {
   "cell_type": "code",
   "execution_count": null,
   "metadata": {
    "collapsed": false
   },
   "outputs": [],
   "source": [
    "m = keras.models.load_model('temp.h5')"
   ]
  },
  {
   "cell_type": "code",
   "execution_count": null,
   "metadata": {
    "collapsed": false
   },
   "outputs": [],
   "source": [
    "m.weights"
   ]
  },
  {
   "cell_type": "code",
   "execution_count": null,
   "metadata": {
    "collapsed": false
   },
   "outputs": [],
   "source": [
    "inp = tf.placeholder(tf.float32, shape=(None, 1))"
   ]
  },
  {
   "cell_type": "code",
   "execution_count": null,
   "metadata": {
    "collapsed": false,
    "scrolled": true
   },
   "outputs": [],
   "source": [
    "with tf.device('/job:ps/task:0'):\n",
    "    #m = keras.models.load_model('temp.h5')\n",
    "    mm = m(inp)"
   ]
  },
  {
   "cell_type": "code",
   "execution_count": null,
   "metadata": {
    "collapsed": false
   },
   "outputs": [],
   "source": [
    "tf.get_collection(tf.GraphKeys.GLOBAL_VARIABLES)\n",
    "# for var in tf.get_collection(tf.GraphKeys.GLOBAL_VARIABLES):\n",
    "#     print var.op.name"
   ]
  },
  {
   "cell_type": "code",
   "execution_count": null,
   "metadata": {
    "collapsed": false
   },
   "outputs": [],
   "source": [
    "tf.gradients(mm, m.weights[-1])"
   ]
  },
  {
   "cell_type": "code",
   "execution_count": null,
   "metadata": {
    "collapsed": false
   },
   "outputs": [],
   "source": [
    "with tf.device('/job:localhost/task:0'):\n",
    "    m = keras.models.load_model('temp.h5')"
   ]
  },
  {
   "cell_type": "code",
   "execution_count": null,
   "metadata": {
    "collapsed": false,
    "deletable": true,
    "editable": true
   },
   "outputs": [],
   "source": [
    "with tf.variable_scope('policy11'):\n",
    "    m = keras.models.load_model('temp.h5')\n",
    "    for var in m.weights:\n",
    "        print var.op.name"
   ]
  },
  {
   "cell_type": "code",
   "execution_count": null,
   "metadata": {
    "collapsed": false
   },
   "outputs": [],
   "source": [
    "m.summary()"
   ]
  },
  {
   "cell_type": "code",
   "execution_count": null,
   "metadata": {
    "collapsed": false
   },
   "outputs": [],
   "source": [
    "m.layers[-2].output"
   ]
  },
  {
   "cell_type": "code",
   "execution_count": null,
   "metadata": {
    "collapsed": false
   },
   "outputs": [],
   "source": [
    "m.input"
   ]
  },
  {
   "cell_type": "code",
   "execution_count": null,
   "metadata": {
    "collapsed": false
   },
   "outputs": [],
   "source": [
    "with tf.variable_scope('policy'):\n",
    "    out = Dense(128)(m.layers[-2].output)\n",
    "    new = Model(input=m.layers[0].input, output=out)"
   ]
  },
  {
   "cell_type": "code",
   "execution_count": null,
   "metadata": {
    "collapsed": false
   },
   "outputs": [],
   "source": [
    "new.summary()"
   ]
  },
  {
   "cell_type": "code",
   "execution_count": null,
   "metadata": {
    "collapsed": false
   },
   "outputs": [],
   "source": [
    "for var in new.weights:\n",
    "    print var.op.name"
   ]
  },
  {
   "cell_type": "code",
   "execution_count": null,
   "metadata": {
    "collapsed": false
   },
   "outputs": [],
   "source": [
    "m.layers[0].input"
   ]
  }
 ],
 "metadata": {
  "kernelspec": {
   "display_name": "Python 2",
   "language": "python",
   "name": "python2"
  },
  "language_info": {
   "codemirror_mode": {
    "name": "ipython",
    "version": 2
   },
   "file_extension": ".py",
   "mimetype": "text/x-python",
   "name": "python",
   "nbconvert_exporter": "python",
   "pygments_lexer": "ipython2",
   "version": "2.7.6"
  }
 },
 "nbformat": 4,
 "nbformat_minor": 0
}
